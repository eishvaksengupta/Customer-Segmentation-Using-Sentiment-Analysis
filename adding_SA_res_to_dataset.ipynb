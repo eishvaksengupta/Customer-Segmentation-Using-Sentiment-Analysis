{
  "nbformat": 4,
  "nbformat_minor": 0,
  "metadata": {
    "colab": {
      "name": "adding_SA_res_to_dataset.ipynb",
      "provenance": []
    },
    "kernelspec": {
      "name": "python3",
      "display_name": "Python 3"
    }
  },
  "cells": [
    {
      "cell_type": "code",
      "metadata": {
        "id": "rC20YHOsnLD1",
        "colab_type": "code",
        "colab": {}
      },
      "source": [
        "from google.colab import drive\n",
        "drive.mount('/content/gdrive')"
      ],
      "execution_count": 0,
      "outputs": []
    },
    {
      "cell_type": "code",
      "metadata": {
        "id": "FPn8bUFdnNVT",
        "colab_type": "code",
        "colab": {}
      },
      "source": [
        "root_dir = \"/content/gdrive/My Drive\"\n",
        "base_dir = root_dir + '/Customer Segmentation/'"
      ],
      "execution_count": 0,
      "outputs": []
    },
    {
      "cell_type": "code",
      "metadata": {
        "id": "LFx7JkUznPm7",
        "colab_type": "code",
        "colab": {}
      },
      "source": [
        "import numpy as np \n",
        "import pandas as pd \n",
        "import os"
      ],
      "execution_count": 0,
      "outputs": []
    },
    {
      "cell_type": "code",
      "metadata": {
        "id": "n1J2LDNjnRo4",
        "colab_type": "code",
        "colab": {
          "base_uri": "https://localhost:8080/",
          "height": 153
        },
        "outputId": "17596c13-8e7d-401b-f5fa-d818abe3216a"
      },
      "source": [
        "dfSA=pd.read_csv(base_dir+'SAresults.csv')\n",
        "print(dfSA.head())"
      ],
      "execution_count": 4,
      "outputs": [
        {
          "output_type": "stream",
          "text": [
            "   Unnamed: 0  ... Analysis\n",
            "0           0  ...        0\n",
            "1           1  ...        1\n",
            "2           2  ...        1\n",
            "3           3  ...        1\n",
            "4           4  ...        1\n",
            "\n",
            "[5 rows x 4 columns]\n"
          ],
          "name": "stdout"
        }
      ]
    },
    {
      "cell_type": "code",
      "metadata": {
        "id": "KC5Pq--cnVco",
        "colab_type": "code",
        "colab": {
          "base_uri": "https://localhost:8080/",
          "height": 224
        },
        "outputId": "5b879fcd-40f6-4bee-8066-ae1ccb114ff5"
      },
      "source": [
        "dfdemo=pd.read_csv(base_dir+'final_file.csv')\n",
        "print(dfdemo.tail())\n",
        "print(dfdemo.shape)"
      ],
      "execution_count": 5,
      "outputs": [
        {
          "output_type": "stream",
          "text": [
            "/usr/local/lib/python3.6/dist-packages/IPython/core/interactiveshell.py:2718: DtypeWarning: Columns (3) have mixed types.Specify dtype option on import or set low_memory=False.\n",
            "  interactivity=interactivity, compiler=compiler, result=result)\n"
          ],
          "name": "stderr"
        },
        {
          "output_type": "stream",
          "text": [
            "         Unnamed: 0  event_id            device_id  ... gender_y  age_y  group_y\n",
            "1271908     1271908       NaN -3539330294838027409  ...        M     25   M23-26\n",
            "1271909     1271909       NaN -4752726726975186730  ...        M     26   M23-26\n",
            "1271910     1271910       NaN  4682031842235089751  ...        M     30   M29-31\n",
            "1271911     1271911       NaN -9178703742877135986  ...        M     30   M29-31\n",
            "1271912     1271912       NaN   180946546684162312  ...        M     20     M22-\n",
            "\n",
            "[5 rows x 14 columns]\n",
            "(1271913, 14)\n"
          ],
          "name": "stdout"
        }
      ]
    },
    {
      "cell_type": "code",
      "metadata": {
        "id": "oKa-UZVxnaF8",
        "colab_type": "code",
        "colab": {
          "base_uri": "https://localhost:8080/",
          "height": 170
        },
        "outputId": "39869396-ac31-4c7e-e27c-d6e8b74e3f32"
      },
      "source": [
        "dfdemoNA=dfdemo.dropna(axis=0,inplace=False)\n",
        "print(dfdemoNA.tail())\n",
        "print(dfdemoNA.shape)"
      ],
      "execution_count": 6,
      "outputs": [
        {
          "output_type": "stream",
          "text": [
            "         Unnamed: 0   event_id            device_id  ... gender_y  age_y  group_y\n",
            "1220469     1220469  3249513.0  4374492668099697484  ...        M     18     M22-\n",
            "1220470     1220470  3249757.0  -348628281270381461  ...        M     21     M22-\n",
            "1220471     1220471  3250919.0  -634925280832154541  ...        M     49     M39+\n",
            "1220472     1220472  3251114.0  2390927717095168323  ...        M     26   M23-26\n",
            "1220473     1220473  3251686.0 -1184626127904161598  ...        F     20     F23-\n",
            "\n",
            "[5 rows x 14 columns]\n",
            "(1220474, 14)\n"
          ],
          "name": "stdout"
        }
      ]
    },
    {
      "cell_type": "code",
      "metadata": {
        "id": "tsxxtH42nfAT",
        "colab_type": "code",
        "colab": {
          "base_uri": "https://localhost:8080/",
          "height": 34
        },
        "outputId": "55063e46-34c4-4756-c349-e3171f86b089"
      },
      "source": [
        "dfSA.shape"
      ],
      "execution_count": 7,
      "outputs": [
        {
          "output_type": "execute_result",
          "data": {
            "text/plain": [
              "(550531, 4)"
            ]
          },
          "metadata": {
            "tags": []
          },
          "execution_count": 7
        }
      ]
    },
    {
      "cell_type": "code",
      "metadata": {
        "id": "Ox1rR_ylnhkT",
        "colab_type": "code",
        "colab": {}
      },
      "source": [
        "dfdemo=dfdemoNA[:550531]"
      ],
      "execution_count": 0,
      "outputs": []
    },
    {
      "cell_type": "code",
      "metadata": {
        "id": "HcrLlcMZnkH8",
        "colab_type": "code",
        "colab": {
          "base_uri": "https://localhost:8080/",
          "height": 34
        },
        "outputId": "e74c6562-ab5e-4148-fca9-fdb31fdd58b9"
      },
      "source": [
        "dfdemo.shape"
      ],
      "execution_count": 9,
      "outputs": [
        {
          "output_type": "execute_result",
          "data": {
            "text/plain": [
              "(550531, 14)"
            ]
          },
          "metadata": {
            "tags": []
          },
          "execution_count": 9
        }
      ]
    },
    {
      "cell_type": "code",
      "metadata": {
        "id": "sPhVECbunhh7",
        "colab_type": "code",
        "colab": {}
      },
      "source": [
        "df=pd.concat([dfSA,dfdemo],axis=1)"
      ],
      "execution_count": 0,
      "outputs": []
    },
    {
      "cell_type": "code",
      "metadata": {
        "id": "8XKNo0_Ko2tG",
        "colab_type": "code",
        "colab": {
          "base_uri": "https://localhost:8080/",
          "height": 34
        },
        "outputId": "4770fcdb-611d-48d9-e19b-a1accc749209"
      },
      "source": [
        "df.shape"
      ],
      "execution_count": 11,
      "outputs": [
        {
          "output_type": "execute_result",
          "data": {
            "text/plain": [
              "(550531, 18)"
            ]
          },
          "metadata": {
            "tags": []
          },
          "execution_count": 11
        }
      ]
    },
    {
      "cell_type": "code",
      "metadata": {
        "id": "ODxVhpOPo6t3",
        "colab_type": "code",
        "colab": {
          "base_uri": "https://localhost:8080/",
          "height": 547
        },
        "outputId": "609fb70a-7f01-4336-b179-8f34f8ac1f3d"
      },
      "source": [
        "df.head(5)"
      ],
      "execution_count": 12,
      "outputs": [
        {
          "output_type": "execute_result",
          "data": {
            "text/html": [
              "<div>\n",
              "<style scoped>\n",
              "    .dataframe tbody tr th:only-of-type {\n",
              "        vertical-align: middle;\n",
              "    }\n",
              "\n",
              "    .dataframe tbody tr th {\n",
              "        vertical-align: top;\n",
              "    }\n",
              "\n",
              "    .dataframe thead th {\n",
              "        text-align: right;\n",
              "    }\n",
              "</style>\n",
              "<table border=\"1\" class=\"dataframe\">\n",
              "  <thead>\n",
              "    <tr style=\"text-align: right;\">\n",
              "      <th></th>\n",
              "      <th>Unnamed: 0</th>\n",
              "      <th>Reviews</th>\n",
              "      <th>Prediction_Value</th>\n",
              "      <th>Analysis</th>\n",
              "      <th>Unnamed: 0</th>\n",
              "      <th>event_id</th>\n",
              "      <th>device_id</th>\n",
              "      <th>timestamp</th>\n",
              "      <th>longitude</th>\n",
              "      <th>latitude</th>\n",
              "      <th>gender_x</th>\n",
              "      <th>age_x</th>\n",
              "      <th>group_x</th>\n",
              "      <th>phone_brand</th>\n",
              "      <th>device_model</th>\n",
              "      <th>gender_y</th>\n",
              "      <th>age_y</th>\n",
              "      <th>group_y</th>\n",
              "    </tr>\n",
              "  </thead>\n",
              "  <tbody>\n",
              "    <tr>\n",
              "      <th>0</th>\n",
              "      <td>0</td>\n",
              "      <td>as a diehard samsung fan who has had every sam...</td>\n",
              "      <td>0.040033</td>\n",
              "      <td>0</td>\n",
              "      <td>0</td>\n",
              "      <td>1.0</td>\n",
              "      <td>29182687948017175</td>\n",
              "      <td>2016-05-01 00:55:25</td>\n",
              "      <td>121.38</td>\n",
              "      <td>31.24</td>\n",
              "      <td>M</td>\n",
              "      <td>46</td>\n",
              "      <td>M39+</td>\n",
              "      <td>小米</td>\n",
              "      <td>红米note</td>\n",
              "      <td>M</td>\n",
              "      <td>46</td>\n",
              "      <td>M39+</td>\n",
              "    </tr>\n",
              "    <tr>\n",
              "      <th>1</th>\n",
              "      <td>1</td>\n",
              "      <td>love the phone  the phone is sleek and smooth ...</td>\n",
              "      <td>0.698054</td>\n",
              "      <td>1</td>\n",
              "      <td>1</td>\n",
              "      <td>7104.0</td>\n",
              "      <td>29182687948017175</td>\n",
              "      <td>2016-05-02 09:37:02</td>\n",
              "      <td>121.38</td>\n",
              "      <td>31.24</td>\n",
              "      <td>M</td>\n",
              "      <td>46</td>\n",
              "      <td>M39+</td>\n",
              "      <td>小米</td>\n",
              "      <td>红米note</td>\n",
              "      <td>M</td>\n",
              "      <td>46</td>\n",
              "      <td>M39+</td>\n",
              "    </tr>\n",
              "    <tr>\n",
              "      <th>2</th>\n",
              "      <td>2</td>\n",
              "      <td>adequate feel  nice heft  processor s still sl...</td>\n",
              "      <td>0.898429</td>\n",
              "      <td>1</td>\n",
              "      <td>2</td>\n",
              "      <td>29661.0</td>\n",
              "      <td>29182687948017175</td>\n",
              "      <td>2016-05-04 00:56:04</td>\n",
              "      <td>121.39</td>\n",
              "      <td>31.23</td>\n",
              "      <td>M</td>\n",
              "      <td>46</td>\n",
              "      <td>M39+</td>\n",
              "      <td>小米</td>\n",
              "      <td>红米note</td>\n",
              "      <td>M</td>\n",
              "      <td>46</td>\n",
              "      <td>M39+</td>\n",
              "    </tr>\n",
              "    <tr>\n",
              "      <th>3</th>\n",
              "      <td>3</td>\n",
              "      <td>never disappointed  one of the reasons i ve be...</td>\n",
              "      <td>0.998926</td>\n",
              "      <td>1</td>\n",
              "      <td>3</td>\n",
              "      <td>33133.0</td>\n",
              "      <td>29182687948017175</td>\n",
              "      <td>2016-05-06 05:01:15</td>\n",
              "      <td>121.38</td>\n",
              "      <td>31.24</td>\n",
              "      <td>M</td>\n",
              "      <td>46</td>\n",
              "      <td>M39+</td>\n",
              "      <td>小米</td>\n",
              "      <td>红米note</td>\n",
              "      <td>M</td>\n",
              "      <td>46</td>\n",
              "      <td>M39+</td>\n",
              "    </tr>\n",
              "    <tr>\n",
              "      <th>4</th>\n",
              "      <td>4</td>\n",
              "      <td>i ve now found that i m in a group of people t...</td>\n",
              "      <td>0.993070</td>\n",
              "      <td>1</td>\n",
              "      <td>4</td>\n",
              "      <td>38980.0</td>\n",
              "      <td>29182687948017175</td>\n",
              "      <td>2016-05-06 09:55:04</td>\n",
              "      <td>121.16</td>\n",
              "      <td>31.00</td>\n",
              "      <td>M</td>\n",
              "      <td>46</td>\n",
              "      <td>M39+</td>\n",
              "      <td>小米</td>\n",
              "      <td>红米note</td>\n",
              "      <td>M</td>\n",
              "      <td>46</td>\n",
              "      <td>M39+</td>\n",
              "    </tr>\n",
              "  </tbody>\n",
              "</table>\n",
              "</div>"
            ],
            "text/plain": [
              "   Unnamed: 0                                            Reviews  ...  age_y  group_y\n",
              "0           0  as a diehard samsung fan who has had every sam...  ...     46     M39+\n",
              "1           1  love the phone  the phone is sleek and smooth ...  ...     46     M39+\n",
              "2           2  adequate feel  nice heft  processor s still sl...  ...     46     M39+\n",
              "3           3  never disappointed  one of the reasons i ve be...  ...     46     M39+\n",
              "4           4  i ve now found that i m in a group of people t...  ...     46     M39+\n",
              "\n",
              "[5 rows x 18 columns]"
            ]
          },
          "metadata": {
            "tags": []
          },
          "execution_count": 12
        }
      ]
    },
    {
      "cell_type": "code",
      "metadata": {
        "id": "k1Xfs0E3o7kq",
        "colab_type": "code",
        "colab": {}
      },
      "source": [
        "df.drop(labels='gender_y',axis=1,inplace=True)\n",
        "df.drop(labels='age_y',axis=1,inplace=True)\n",
        "df.drop(labels='group_y',axis=1,inplace=True)"
      ],
      "execution_count": 0,
      "outputs": []
    },
    {
      "cell_type": "code",
      "metadata": {
        "id": "2raQM2F3pC5x",
        "colab_type": "code",
        "colab": {
          "base_uri": "https://localhost:8080/",
          "height": 547
        },
        "outputId": "6c00b11e-c12b-481e-d132-a657cbccd365"
      },
      "source": [
        "df.head(5)"
      ],
      "execution_count": 14,
      "outputs": [
        {
          "output_type": "execute_result",
          "data": {
            "text/html": [
              "<div>\n",
              "<style scoped>\n",
              "    .dataframe tbody tr th:only-of-type {\n",
              "        vertical-align: middle;\n",
              "    }\n",
              "\n",
              "    .dataframe tbody tr th {\n",
              "        vertical-align: top;\n",
              "    }\n",
              "\n",
              "    .dataframe thead th {\n",
              "        text-align: right;\n",
              "    }\n",
              "</style>\n",
              "<table border=\"1\" class=\"dataframe\">\n",
              "  <thead>\n",
              "    <tr style=\"text-align: right;\">\n",
              "      <th></th>\n",
              "      <th>Unnamed: 0</th>\n",
              "      <th>Reviews</th>\n",
              "      <th>Prediction_Value</th>\n",
              "      <th>Analysis</th>\n",
              "      <th>Unnamed: 0</th>\n",
              "      <th>event_id</th>\n",
              "      <th>device_id</th>\n",
              "      <th>timestamp</th>\n",
              "      <th>longitude</th>\n",
              "      <th>latitude</th>\n",
              "      <th>gender_x</th>\n",
              "      <th>age_x</th>\n",
              "      <th>group_x</th>\n",
              "      <th>phone_brand</th>\n",
              "      <th>device_model</th>\n",
              "    </tr>\n",
              "  </thead>\n",
              "  <tbody>\n",
              "    <tr>\n",
              "      <th>0</th>\n",
              "      <td>0</td>\n",
              "      <td>as a diehard samsung fan who has had every sam...</td>\n",
              "      <td>0.040033</td>\n",
              "      <td>0</td>\n",
              "      <td>0</td>\n",
              "      <td>1.0</td>\n",
              "      <td>29182687948017175</td>\n",
              "      <td>2016-05-01 00:55:25</td>\n",
              "      <td>121.38</td>\n",
              "      <td>31.24</td>\n",
              "      <td>M</td>\n",
              "      <td>46</td>\n",
              "      <td>M39+</td>\n",
              "      <td>小米</td>\n",
              "      <td>红米note</td>\n",
              "    </tr>\n",
              "    <tr>\n",
              "      <th>1</th>\n",
              "      <td>1</td>\n",
              "      <td>love the phone  the phone is sleek and smooth ...</td>\n",
              "      <td>0.698054</td>\n",
              "      <td>1</td>\n",
              "      <td>1</td>\n",
              "      <td>7104.0</td>\n",
              "      <td>29182687948017175</td>\n",
              "      <td>2016-05-02 09:37:02</td>\n",
              "      <td>121.38</td>\n",
              "      <td>31.24</td>\n",
              "      <td>M</td>\n",
              "      <td>46</td>\n",
              "      <td>M39+</td>\n",
              "      <td>小米</td>\n",
              "      <td>红米note</td>\n",
              "    </tr>\n",
              "    <tr>\n",
              "      <th>2</th>\n",
              "      <td>2</td>\n",
              "      <td>adequate feel  nice heft  processor s still sl...</td>\n",
              "      <td>0.898429</td>\n",
              "      <td>1</td>\n",
              "      <td>2</td>\n",
              "      <td>29661.0</td>\n",
              "      <td>29182687948017175</td>\n",
              "      <td>2016-05-04 00:56:04</td>\n",
              "      <td>121.39</td>\n",
              "      <td>31.23</td>\n",
              "      <td>M</td>\n",
              "      <td>46</td>\n",
              "      <td>M39+</td>\n",
              "      <td>小米</td>\n",
              "      <td>红米note</td>\n",
              "    </tr>\n",
              "    <tr>\n",
              "      <th>3</th>\n",
              "      <td>3</td>\n",
              "      <td>never disappointed  one of the reasons i ve be...</td>\n",
              "      <td>0.998926</td>\n",
              "      <td>1</td>\n",
              "      <td>3</td>\n",
              "      <td>33133.0</td>\n",
              "      <td>29182687948017175</td>\n",
              "      <td>2016-05-06 05:01:15</td>\n",
              "      <td>121.38</td>\n",
              "      <td>31.24</td>\n",
              "      <td>M</td>\n",
              "      <td>46</td>\n",
              "      <td>M39+</td>\n",
              "      <td>小米</td>\n",
              "      <td>红米note</td>\n",
              "    </tr>\n",
              "    <tr>\n",
              "      <th>4</th>\n",
              "      <td>4</td>\n",
              "      <td>i ve now found that i m in a group of people t...</td>\n",
              "      <td>0.993070</td>\n",
              "      <td>1</td>\n",
              "      <td>4</td>\n",
              "      <td>38980.0</td>\n",
              "      <td>29182687948017175</td>\n",
              "      <td>2016-05-06 09:55:04</td>\n",
              "      <td>121.16</td>\n",
              "      <td>31.00</td>\n",
              "      <td>M</td>\n",
              "      <td>46</td>\n",
              "      <td>M39+</td>\n",
              "      <td>小米</td>\n",
              "      <td>红米note</td>\n",
              "    </tr>\n",
              "  </tbody>\n",
              "</table>\n",
              "</div>"
            ],
            "text/plain": [
              "   Unnamed: 0  ... device_model\n",
              "0           0  ...       红米note\n",
              "1           1  ...       红米note\n",
              "2           2  ...       红米note\n",
              "3           3  ...       红米note\n",
              "4           4  ...       红米note\n",
              "\n",
              "[5 rows x 15 columns]"
            ]
          },
          "metadata": {
            "tags": []
          },
          "execution_count": 14
        }
      ]
    },
    {
      "cell_type": "code",
      "metadata": {
        "id": "T3vuL6JHpE2k",
        "colab_type": "code",
        "colab": {
          "base_uri": "https://localhost:8080/",
          "height": 34
        },
        "outputId": "f3c0b76d-e774-4836-fdd0-42ceb7e6bc44"
      },
      "source": [
        "df.shape"
      ],
      "execution_count": 15,
      "outputs": [
        {
          "output_type": "execute_result",
          "data": {
            "text/plain": [
              "(550531, 15)"
            ]
          },
          "metadata": {
            "tags": []
          },
          "execution_count": 15
        }
      ]
    },
    {
      "cell_type": "code",
      "metadata": {
        "id": "N9fuHKh5pHck",
        "colab_type": "code",
        "colab": {}
      },
      "source": [
        "df.to_csv(base_dir+'ABC.csv')"
      ],
      "execution_count": 0,
      "outputs": []
    }
  ]
}