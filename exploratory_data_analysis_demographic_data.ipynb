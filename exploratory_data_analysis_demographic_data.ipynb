{
 "cells": [
  {
   "cell_type": "code",
   "execution_count": 1,
   "metadata": {},
   "outputs": [],
   "source": [
    "import pandas as pd\n",
    "import matplotlib.pyplot as plt\n",
    "import seaborn as sns"
   ]
  },
  {
   "cell_type": "code",
   "execution_count": 2,
   "metadata": {},
   "outputs": [],
   "source": [
    "from sklearn import tree\n",
    "from sklearn.metrics import accuracy_score"
   ]
  },
  {
   "cell_type": "code",
   "execution_count": 3,
   "metadata": {},
   "outputs": [],
   "source": [
    "%matplotlib inline\n",
    "sns.set()"
   ]
  },
  {
   "cell_type": "code",
   "execution_count": 13,
   "metadata": {},
   "outputs": [],
   "source": [
    "df = pd.read_csv(r'C:\\Users\\Eishvak\\Downloads\\final_file.csv', sep=',', error_bad_lines=False, index_col=False, dtype='unicode')"
   ]
  },
  {
   "cell_type": "code",
   "execution_count": 14,
   "metadata": {},
   "outputs": [
    {
     "data": {
      "text/html": [
       "<div>\n",
       "<style scoped>\n",
       "    .dataframe tbody tr th:only-of-type {\n",
       "        vertical-align: middle;\n",
       "    }\n",
       "\n",
       "    .dataframe tbody tr th {\n",
       "        vertical-align: top;\n",
       "    }\n",
       "\n",
       "    .dataframe thead th {\n",
       "        text-align: right;\n",
       "    }\n",
       "</style>\n",
       "<table border=\"1\" class=\"dataframe\">\n",
       "  <thead>\n",
       "    <tr style=\"text-align: right;\">\n",
       "      <th></th>\n",
       "      <th>Unnamed: 0</th>\n",
       "      <th>event_id</th>\n",
       "      <th>device_id</th>\n",
       "      <th>timestamp</th>\n",
       "      <th>longitude</th>\n",
       "      <th>latitude</th>\n",
       "      <th>gender_x</th>\n",
       "      <th>age_x</th>\n",
       "      <th>group_x</th>\n",
       "      <th>phone_brand</th>\n",
       "      <th>device_model</th>\n",
       "      <th>gender_y</th>\n",
       "      <th>age_y</th>\n",
       "      <th>group_y</th>\n",
       "    </tr>\n",
       "  </thead>\n",
       "  <tbody>\n",
       "    <tr>\n",
       "      <th>0</th>\n",
       "      <td>0</td>\n",
       "      <td>1.0</td>\n",
       "      <td>29182687948017175</td>\n",
       "      <td>2016-05-01 00:55:25</td>\n",
       "      <td>121.38</td>\n",
       "      <td>31.24</td>\n",
       "      <td>M</td>\n",
       "      <td>46</td>\n",
       "      <td>M39+</td>\n",
       "      <td>小米</td>\n",
       "      <td>红米note</td>\n",
       "      <td>M</td>\n",
       "      <td>46</td>\n",
       "      <td>M39+</td>\n",
       "    </tr>\n",
       "    <tr>\n",
       "      <th>1</th>\n",
       "      <td>1</td>\n",
       "      <td>7104.0</td>\n",
       "      <td>29182687948017175</td>\n",
       "      <td>2016-05-02 09:37:02</td>\n",
       "      <td>121.38</td>\n",
       "      <td>31.24</td>\n",
       "      <td>M</td>\n",
       "      <td>46</td>\n",
       "      <td>M39+</td>\n",
       "      <td>小米</td>\n",
       "      <td>红米note</td>\n",
       "      <td>M</td>\n",
       "      <td>46</td>\n",
       "      <td>M39+</td>\n",
       "    </tr>\n",
       "    <tr>\n",
       "      <th>2</th>\n",
       "      <td>2</td>\n",
       "      <td>29661.0</td>\n",
       "      <td>29182687948017175</td>\n",
       "      <td>2016-05-04 00:56:04</td>\n",
       "      <td>121.39</td>\n",
       "      <td>31.23</td>\n",
       "      <td>M</td>\n",
       "      <td>46</td>\n",
       "      <td>M39+</td>\n",
       "      <td>小米</td>\n",
       "      <td>红米note</td>\n",
       "      <td>M</td>\n",
       "      <td>46</td>\n",
       "      <td>M39+</td>\n",
       "    </tr>\n",
       "    <tr>\n",
       "      <th>3</th>\n",
       "      <td>3</td>\n",
       "      <td>33133.0</td>\n",
       "      <td>29182687948017175</td>\n",
       "      <td>2016-05-06 05:01:15</td>\n",
       "      <td>121.38</td>\n",
       "      <td>31.24</td>\n",
       "      <td>M</td>\n",
       "      <td>46</td>\n",
       "      <td>M39+</td>\n",
       "      <td>小米</td>\n",
       "      <td>红米note</td>\n",
       "      <td>M</td>\n",
       "      <td>46</td>\n",
       "      <td>M39+</td>\n",
       "    </tr>\n",
       "  </tbody>\n",
       "</table>\n",
       "</div>"
      ],
      "text/plain": [
       "  Unnamed: 0 event_id          device_id            timestamp longitude  \\\n",
       "0          0      1.0  29182687948017175  2016-05-01 00:55:25    121.38   \n",
       "1          1   7104.0  29182687948017175  2016-05-02 09:37:02    121.38   \n",
       "2          2  29661.0  29182687948017175  2016-05-04 00:56:04    121.39   \n",
       "3          3  33133.0  29182687948017175  2016-05-06 05:01:15    121.38   \n",
       "\n",
       "  latitude gender_x age_x group_x phone_brand device_model gender_y age_y  \\\n",
       "0    31.24        M    46    M39+          小米       红米note        M    46   \n",
       "1    31.24        M    46    M39+          小米       红米note        M    46   \n",
       "2    31.23        M    46    M39+          小米       红米note        M    46   \n",
       "3    31.24        M    46    M39+          小米       红米note        M    46   \n",
       "\n",
       "  group_y  \n",
       "0    M39+  \n",
       "1    M39+  \n",
       "2    M39+  \n",
       "3    M39+  "
      ]
     },
     "execution_count": 14,
     "metadata": {},
     "output_type": "execute_result"
    }
   ],
   "source": [
    "df.head(n=4)"
   ]
  },
  {
   "cell_type": "code",
   "execution_count": 16,
   "metadata": {},
   "outputs": [
    {
     "name": "stdout",
     "output_type": "stream",
     "text": [
      "<class 'pandas.core.frame.DataFrame'>\n",
      "RangeIndex: 1271913 entries, 0 to 1271912\n",
      "Data columns (total 14 columns):\n",
      "Unnamed: 0      1271913 non-null object\n",
      "event_id        1220474 non-null object\n",
      "device_id       1271913 non-null object\n",
      "timestamp       1220474 non-null object\n",
      "longitude       1220474 non-null object\n",
      "latitude        1220474 non-null object\n",
      "gender_x        1271913 non-null object\n",
      "age_x           1271913 non-null object\n",
      "group_x         1271913 non-null object\n",
      "phone_brand     1271913 non-null object\n",
      "device_model    1271913 non-null object\n",
      "gender_y        1271913 non-null object\n",
      "age_y           1271913 non-null object\n",
      "group_y         1271913 non-null object\n",
      "dtypes: object(14)\n",
      "memory usage: 135.9+ MB\n"
     ]
    }
   ],
   "source": [
    "df.info()"
   ]
  },
  {
   "cell_type": "code",
   "execution_count": 17,
   "metadata": {},
   "outputs": [
    {
     "data": {
      "text/html": [
       "<div>\n",
       "<style scoped>\n",
       "    .dataframe tbody tr th:only-of-type {\n",
       "        vertical-align: middle;\n",
       "    }\n",
       "\n",
       "    .dataframe tbody tr th {\n",
       "        vertical-align: top;\n",
       "    }\n",
       "\n",
       "    .dataframe thead th {\n",
       "        text-align: right;\n",
       "    }\n",
       "</style>\n",
       "<table border=\"1\" class=\"dataframe\">\n",
       "  <thead>\n",
       "    <tr style=\"text-align: right;\">\n",
       "      <th></th>\n",
       "      <th>Unnamed: 0</th>\n",
       "      <th>event_id</th>\n",
       "      <th>device_id</th>\n",
       "      <th>timestamp</th>\n",
       "      <th>longitude</th>\n",
       "      <th>latitude</th>\n",
       "      <th>gender_x</th>\n",
       "      <th>age_x</th>\n",
       "      <th>group_x</th>\n",
       "      <th>phone_brand</th>\n",
       "      <th>device_model</th>\n",
       "      <th>gender_y</th>\n",
       "      <th>age_y</th>\n",
       "      <th>group_y</th>\n",
       "    </tr>\n",
       "  </thead>\n",
       "  <tbody>\n",
       "    <tr>\n",
       "      <th>count</th>\n",
       "      <td>1271913</td>\n",
       "      <td>1220474</td>\n",
       "      <td>1271913</td>\n",
       "      <td>1220474</td>\n",
       "      <td>1220474</td>\n",
       "      <td>1220474</td>\n",
       "      <td>1271913</td>\n",
       "      <td>1271913</td>\n",
       "      <td>1271913</td>\n",
       "      <td>1271913</td>\n",
       "      <td>1271913</td>\n",
       "      <td>1271913</td>\n",
       "      <td>1271913</td>\n",
       "      <td>1271913</td>\n",
       "    </tr>\n",
       "    <tr>\n",
       "      <th>unique</th>\n",
       "      <td>1271913</td>\n",
       "      <td>1215595</td>\n",
       "      <td>74645</td>\n",
       "      <td>497663</td>\n",
       "      <td>2914</td>\n",
       "      <td>2707</td>\n",
       "      <td>2</td>\n",
       "      <td>85</td>\n",
       "      <td>12</td>\n",
       "      <td>120</td>\n",
       "      <td>1438</td>\n",
       "      <td>2</td>\n",
       "      <td>85</td>\n",
       "      <td>12</td>\n",
       "    </tr>\n",
       "    <tr>\n",
       "      <th>top</th>\n",
       "      <td>108105</td>\n",
       "      <td>2272427.0</td>\n",
       "      <td>-6242501228649113250</td>\n",
       "      <td>2016-05-03 10:00:03</td>\n",
       "      <td>0.0</td>\n",
       "      <td>0.0</td>\n",
       "      <td>M</td>\n",
       "      <td>29</td>\n",
       "      <td>M32-38</td>\n",
       "      <td>华为</td>\n",
       "      <td>荣耀6</td>\n",
       "      <td>M</td>\n",
       "      <td>29</td>\n",
       "      <td>M32-38</td>\n",
       "    </tr>\n",
       "    <tr>\n",
       "      <th>freq</th>\n",
       "      <td>1</td>\n",
       "      <td>2</td>\n",
       "      <td>4150</td>\n",
       "      <td>18</td>\n",
       "      <td>357423</td>\n",
       "      <td>357590</td>\n",
       "      <td>901247</td>\n",
       "      <td>80541</td>\n",
       "      <td>217061</td>\n",
       "      <td>384262</td>\n",
       "      <td>55664</td>\n",
       "      <td>901247</td>\n",
       "      <td>80541</td>\n",
       "      <td>217061</td>\n",
       "    </tr>\n",
       "  </tbody>\n",
       "</table>\n",
       "</div>"
      ],
      "text/plain": [
       "       Unnamed: 0   event_id             device_id            timestamp  \\\n",
       "count     1271913    1220474               1271913              1220474   \n",
       "unique    1271913    1215595                 74645               497663   \n",
       "top        108105  2272427.0  -6242501228649113250  2016-05-03 10:00:03   \n",
       "freq            1          2                  4150                   18   \n",
       "\n",
       "       longitude latitude gender_x    age_x  group_x phone_brand device_model  \\\n",
       "count    1220474  1220474  1271913  1271913  1271913     1271913      1271913   \n",
       "unique      2914     2707        2       85       12         120         1438   \n",
       "top          0.0      0.0        M       29   M32-38          华为          荣耀6   \n",
       "freq      357423   357590   901247    80541   217061      384262        55664   \n",
       "\n",
       "       gender_y    age_y  group_y  \n",
       "count   1271913  1271913  1271913  \n",
       "unique        2       85       12  \n",
       "top           M       29   M32-38  \n",
       "freq     901247    80541   217061  "
      ]
     },
     "execution_count": 17,
     "metadata": {},
     "output_type": "execute_result"
    }
   ],
   "source": [
    "df.describe()"
   ]
  },
  {
   "cell_type": "code",
   "execution_count": 18,
   "metadata": {},
   "outputs": [
    {
     "data": {
      "image/png": "[encoded data removed]",
      "text/plain": [
       "<Figure size 432x288 with 1 Axes>"
      ]
     },
     "metadata": {},
     "output_type": "display_data"
    }
   ],
   "source": [
    "sns.countplot(x='gender_x', data=df);"
   ]
  },
  {
   "cell_type": "code",
   "execution_count": 19,
   "metadata": {},
   "outputs": [
    {
     "data": {
      "image/png": "[encoded data removed]",
      "text/plain": [
       "<Figure size 432x288 with 1 Axes>"
      ]
     },
     "metadata": {},
     "output_type": "display_data"
    }
   ],
   "source": [
    "sns.countplot(x='age_x', data=df);"
   ]
  },
  {
   "cell_type": "code",
   "execution_count": 20,
   "metadata": {},
   "outputs": [
    {
     "data": {
      "image/png": "[encoded data removed]",
      "text/plain": [
       "<Figure size 432x288 with 1 Axes>"
      ]
     },
     "metadata": {},
     "output_type": "display_data"
    }
   ],
   "source": [
    "sns.countplot(x='phone_brand', data=df);"
   ]
  },
  {
   "cell_type": "code",
   "execution_count": 22,
   "metadata": {},
   "outputs": [
    {
     "name": "stderr",
     "output_type": "stream",
     "text": [
      "C:\\Users\\Eishvak\\Anaconda3\\lib\\site-packages\\seaborn\\categorical.py:3666: UserWarning: The `factorplot` function has been renamed to `catplot`. The original name will be removed in a future release. Please update your code. Note that the default `kind` in `factorplot` (`'point'`) has changed `'strip'` in `catplot`.\n",
      "  warnings.warn(msg)\n"
     ]
    },
    {
     "data": {
      "image/png": "[encoded data removed]",
      "text/plain": [
       "<Figure size 720x360 with 2 Axes>"
      ]
     },
     "metadata": {},
     "output_type": "display_data"
    }
   ],
   "source": [
    "sns.factorplot(x='phone_brand', col='gender_x', kind='count', data=df);"
   ]
  },
  {
   "cell_type": "code",
   "execution_count": null,
   "metadata": {},
   "outputs": [],
   "source": [
    "df.groupby(['gender_x']).phone_brand.sum()"
   ]
  },
  {
   "cell_type": "code",
   "execution_count": null,
   "metadata": {},
   "outputs": [],
   "source": [
    "sns.factorplot(x='gender_x', col='phone_brand', kind='count', data=df);"
   ]
  },
  {
   "cell_type": "code",
   "execution_count": null,
   "metadata": {},
   "outputs": [],
   "source": []
  }
 ],
 "metadata": {
  "kernelspec": {
   "display_name": "Python 3",
   "language": "python",
   "name": "python3"
  },
  "language_info": {
   "codemirror_mode": {
    "name": "ipython",
    "version": 3
   },
   "file_extension": ".py",
   "mimetype": "text/x-python",
   "name": "python",
   "nbconvert_exporter": "python",
   "pygments_lexer": "ipython3",
   "version": "3.6.5"
  }
 },
 "nbformat": 4,
 "nbformat_minor": 2
}
